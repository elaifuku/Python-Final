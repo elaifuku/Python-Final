{
 "cells": [
  {
   "cell_type": "markdown",
   "metadata": {},
   "source": [
    "# Final Project Description"
   ]
  },
  {
   "cell_type": "markdown",
   "metadata": {},
   "source": [
    "My project is a BakingBot. This bot provides informations about baking certain pastries. The user is able to choose from 4 different types of desserts. The user will be able to figure out the type of tools, ingredients, and steps they need to make the dessert. The bot will tell you step by step instructions for each dessert in details, so even if the user never baked before, they will be able to learn through this bot. \n",
    "\n",
    "I borrowed some functions from the homework A3 Chatbot, and added on my own functions as well. The code is really long due the baking steps, but I believe it is organized for other people to read.\n",
    "\n"
   ]
  },
  {
   "cell_type": "markdown",
   "metadata": {},
   "source": [
    "# Code Description"
   ]
  },
  {
   "cell_type": "markdown",
   "metadata": {},
