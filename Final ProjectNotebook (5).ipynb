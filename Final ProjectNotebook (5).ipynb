{
 "cells": [
  {
   "cell_type": "markdown",
   "metadata": {},
   "source": [
    "# Final Project Description"
   ]
  },
  {
   "cell_type": "markdown",
   "metadata": {},
   "source": [
    "My project is a BakingBot. This bot provides informations about baking certain pastries. The user is able to choose from 4 different types of desserts. The user will be able to figure out the type of tools, ingredients, and steps they need to make the dessert. The bot will tell you step by step instructions for each dessert in details, so even if the user never baked before, they will be able to learn through this bot. \n",
    "\n",
    "I borrowed some functions from the homework A3 Chatbot, and added on my own functions as well. The code is really long due the baking steps, but I believe it is organized for other people to read.\n",
    "\n"
   ]
  },
  {
   "cell_type": "markdown",
   "metadata": {},
   "source": [
    "# Code Description"
   ]
  },
  {
   "cell_type": "markdown",
   "metadata": {},
   "source": [
    "To exit out of the chat type 'bye' or 'quit'. "
   ]
  },
  {
   "cell_type": "code",
   "execution_count": 5,
   "metadata": {},
   "outputs": [],
   "source": [
    "from my_module.Baking_Bot_Test_Function import *\n",
    "from my_module.Baking_Bot_Function import *"
   ]
  },
  {
   "cell_type": "code",
   "execution_count": 6,
   "metadata": {},
   "outputs": [
    {
     "name": "stdout",
     "output_type": "stream",
     "text": [
      "Mochi: Hi,Im Mochi! Welcome to Baking Advice!\n",
      "What kind of desserts do you want to make today?\n",
      "(choose from this list: tiramisu, cream puff(just type cream), macarons, chocolate cake (just type choco)\n",
      "You :\ttiramisu\n",
      "('Great! What do you want to know about?:ingredient', 'tool', 'steps to make it (just type steps)')\n",
      "You :\tingredient\n",
      "Mochi: \n",
      "    4 eggs\n",
      "    130g of sugar\n",
      "    53g cake flour\n",
      "    7g of cocoa powder\n",
      "    3g instant coffee\n",
      "    45ml milk\n",
      "    25g unsalted butter\n",
      "    200g mascarpone cheese\n",
      "    100ml heavy cream\n",
      "    20ml hot water\n",
      "    2 gelatin sheets or 3g gelatin powder\n",
      "What kind of desserts do you want to make today?\n",
      "(choose from this list: tiramisu, cream puff(just type cream), macarons, chocolate cake (just type choco)\n",
      "You :\tcream\n",
      "('Great! What do you want to know about?:ingredient', 'tool', 'steps to make it (just type steps)')\n",
      "You :\tsteps\n",
      "Mochi: \n",
      "    1)heat up the milk with 1/2 teaspoon of vanilla extract/bean\n",
      "    2)whisk two egg yolk with 40g sugar and sift 15g flour into the bowl and mix\n",
      "    3)Then add the milk you heated up earlier as you whisk\n",
      "    4)cook the mixture over medium-high heat whisking constantly so it doesnt burn *tip* use spatula\n",
      "    5)once the cream becomes more solid-like, remove it from the heat and refrigerate\n",
      "    6)Sift 25g of flour and beat an egg in preparation\n",
      "    7)heat up 30g water,30 milk, and 20g of butter in the same pan\n",
      "    8)once the milk boils, add in the flour and mix with spatula\n",
      "    9)Continue mixing for about a minute and transfer it onto another bowl\n",
      "    10)add in a little bit of the egg you beated earlier into the bowl and mix until you use up the egg\n",
      "    11)once the dough mixture has a nice consistency put it into a pipe and squeeze it out onto your baking sheet\n",
      "    12)bake it in 374 degree F for 20 min and then 338 degree F for 20-30 min\n",
      "    13)Do not immediately the puff out of the oven and leave it there for a while after you turn off the oven\n",
      "    14)Once the oven cooled down take out the puff and leave it out, while you get the cream mixture\n",
      "    15)mix the cream with a spatula until its smooth\n",
      "    16)whisk 150ml of heavy cream with 40g of sugar until its stiff\n",
      "    17) mix the heavy cream with the cream mixture and pour it into a piping bag\n",
      "    18)Use the piping bag and pour the cream into the puff\n",
      "    19)You finished! Enjoy!\n",
      "What kind of desserts do you want to make today?\n",
      "(choose from this list: tiramisu, cream puff(just type cream), macarons, chocolate cake (just type choco)\n",
      "You :\tmacarons\n",
      "('Great! What do you want to know about?:ingredient', 'tool', 'steps to make it (just type steps)')\n",
      "You :\ttool\n",
      "Mochi: \n",
      "    spatula\n",
      "    hand mixer or whisk\n",
      "    at least 4 bowls or more\n",
      "    a cake pan\n",
      "    parchment paper\n",
      "    piping bag\n",
      "    sifter\n",
      "    *optional cooking thermometer\n",
      "    digital scale\n",
      "What kind of desserts do you want to make today?\n",
      "(choose from this list: tiramisu, cream puff(just type cream), macarons, chocolate cake (just type choco)\n",
      "You :\thi\n",
      "Mochi: \n",
      "    Hmm sorry I dont understand ꒰•̤▿•̤*ૢ꒱???... please choose from the list I provided!(tiramisu,cream puff,macarons,choco cake)\n",
      "What kind of desserts do you want to make today?\n",
      "(choose from this list: tiramisu, cream puff(just type cream), macarons, chocolate cake (just type choco)\n",
      "You :\tbye\n",
      "Mochi: \n",
      "    Sayonara~ ꒰๑•௰•๑꒱♫\n"
     ]
    }
   ],
   "source": [
    "#have a conversation with the Baking Bot\n",
    "lets_talk()"
   ]
  },
  {
   "cell_type": "code",
   "execution_count": null,
   "metadata": {},
   "outputs": [],
   "source": []
  },
  {
   "cell_type": "code",
   "execution_count": null,
   "metadata": {},
   "outputs": [],
   "source": []
  },
  {
   "cell_type": "code",
   "execution_count": null,
   "metadata": {},
   "outputs": [],
   "source": []
  }
 ],
 "metadata": {
  "kernelspec": {
   "display_name": "Python 3",
   "language": "python",
   "name": "python3"
  },
  "language_info": {
   "codemirror_mode": {
    "name": "ipython",
    "version": 3
   },
   "file_extension": ".py",
   "mimetype": "text/x-python",
   "name": "python",
   "nbconvert_exporter": "python",
   "pygments_lexer": "ipython3",
   "version": "3.6.7"
  }
 },
 "nbformat": 4,
 "nbformat_minor": 2
}
